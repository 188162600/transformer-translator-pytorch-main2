{
 "cells": [
  {
   "cell_type": "markdown",
   "metadata": {
    "colab_type": "text",
    "id": "view-in-github"
   },
   "source": [
    "<a href=\"https://colab.research.google.com/github/bkkaggle/pytorch-CycleGAN-and-pix2pix/blob/master/pix2pix.ipynb\" target=\"_parent\"><img src=\"https://colab.research.google.com/assets/colab-badge.svg\" alt=\"Open In Colab\"/></a>"
   ]
  },
  {
   "cell_type": "markdown",
   "metadata": {
    "colab_type": "text",
    "id": "7wNjDKdQy35h"
   },
   "source": [
    "# Install"
   ]
  },
  {
   "cell_type": "code",
   "execution_count": null,
   "metadata": {
    "colab": {},
    "colab_type": "code",
    "id": "TRm-USlsHgEV"
   },
   "outputs": [],
   "source": []
  },
  {
   "cell_type": "code",
   "execution_count": null,
   "metadata": {
    "colab": {},
    "colab_type": "code",
    "id": "Pt3igws3eiVp"
   },
   "outputs": [],
   "source": []
  },
  {
   "cell_type": "code",
   "execution_count": null,
   "metadata": {
    "colab": {},
    "colab_type": "code",
    "id": "z1EySlOXwwoa"
   },
   "outputs": [],
   "source": []
  },
  {
   "cell_type": "markdown",
   "metadata": {
    "colab_type": "text",
    "id": "8daqlgVhw29P"
   },
   "source": [
    "# Datasets\n",
    "\n",
    "Download one of the official datasets with:"
   ]
  },
  {
   "cell_type": "code",
   "execution_count": null,
   "metadata": {
    "colab": {},
    "colab_type": "code",
    "id": "vrdOettJxaCc"
   },
   "outputs": [],
   "source": [
    "!python prepare_datasets.py"
   ]
  },
  {
   "cell_type": "markdown",
   "metadata": {
    "colab_type": "text",
    "id": "gdUz4116xhpm"
   },
   "source": [
    "# Pretrained models\n"
   ]
  },
  {
   "cell_type": "markdown",
   "metadata": {},
   "source": []
  },
  {
   "cell_type": "code",
   "execution_count": null,
   "metadata": {
    "colab": {},
    "colab_type": "code",
    "id": "GC2DEP4M0OsS"
   },
   "outputs": [],
   "source": []
  },
  {
   "cell_type": "markdown",
   "metadata": {
    "colab_type": "text",
    "id": "yFw1kDQBx3LN"
   },
   "source": [
    "# Training\n"
   ]
  },
  {
   "cell_type": "code",
   "execution_count": 2,
   "metadata": {
    "colab": {},
    "colab_type": "code",
    "id": "0sp7TCT2x9dB"
   },
   "outputs": [
    {
     "name": "stdout",
     "output_type": "stream",
     "text": [
      "----------------- Options ---------------\n",
      "               batch_size: 5                             \n",
      "          checkpoints_dir: ./checkpoints                 \n",
      "            current_epoch: 0                             \n",
      "           data_path_eval: {dataroot}/{name}/validation  \n",
      "          data_path_train: {dataroot}/{name}/train       \n",
      "                 dataroot: ./datasets                    \n",
      "                   device: cuda                          \t[default: None]\n",
      "          dim_feedforward: 2048                          \n",
      "      dropout_probability: 0.1                           \n",
      "        eval_accuracy_pth: {checkpoints_dir}/{project_name}/trails/{epoch}_eval_accuracy.json\n",
      "          eval_losses_pth: {checkpoints_dir}/{project_name}/trails/{epoch}_eval_losses.json\n",
      "                 is_train: True                          \t[default: None]\n",
      "            learning_rate: 0.0001                        \n",
      "          model_dimension: 512                           \n",
      "          model_load_path: None                          \n",
      "          model_save_path: {checkpoints_dir}/{project_name}/{epoch}_{model_name}.pth\n",
      "                     name: de_to_en                      \t[default: zh_to_en]\n",
      "num_classifier_encoder_layers: 6                             \n",
      "       num_decoder_layers: 6                             \n",
      "num_decoder_options_each_layer: 4                             \n",
      "num_decoder_shared_layers: 0                             \n",
      "       num_encoder_layers: 6                             \n",
      "num_encoder_options_each_layer: 4                             \n",
      "num_encoder_shared_layers: 0                             \n",
      "               num_labels: 6                             \n",
      "                  num_neg: 2                             \n",
      "            num_of_epochs: 40                            \n",
      "   num_special_tokens_trg: 2                             \n",
      "              num_threads: 4                             \n",
      "          number_of_heads: 8                             \n",
      "         optimize_C_epoch: 0                             \n",
      "         optimize_G_epoch: 0                             \n",
      "             project_name: de_to_en                      \t[default: None]\n",
      "               retokenize: False                         \n",
      "          save_epoch_freq: 5                             \n",
      "          sequence_length: 128                           \n",
      "           src_vocab_size: 10000                         \n",
      "          step_losses_pth: {checkpoints_dir}/{project_name}/trails/{epoch}_step_losses.json\n",
      "       tokenizer_path_src: {dataroot}/{name}/tokenizer.src\n",
      "       tokenizer_path_trg: {dataroot}/{name}/tokenizer.trg\n",
      "       train_accuracy_pth: {checkpoints_dir}/{project_name}/trails/{epoch}_train_accuracy.json\n",
      "         train_losses_pth: {checkpoints_dir}/{project_name}/trails/{epoch}_train_losses.json\n",
      "           trg_vocab_size: 10000                         \n",
      "             weight_decay: 0.0001                        \n",
      "----------------- End -------------------\n"
     ]
    },
    {
     "name": "stderr",
     "output_type": "stream",
     "text": [
      "Traceback (most recent call last):\n",
      "  File \"c:\\Users\\18816\\Downloads\\transformer-translator-pytorch-main\\transformer-translator-pytorch-main\\train.py\", line 170, in <module>\n",
      "    tokenizer_path_src, tokenizer_path_trg, data_path_train_src, data_path_train_trg = prepare_tokenizer(opt)\n",
      "  File \"c:\\Users\\18816\\Downloads\\transformer-translator-pytorch-main\\transformer-translator-pytorch-main\\train.py\", line 105, in prepare_tokenizer\n",
      "    data_path_train_src = opt.data_path_train_src.format_map(vars(opt))\n",
      "AttributeError: 'Namespace' object has no attribute 'data_path_train_src'. Did you mean: 'data_path_train'?\n"
     ]
    }
   ],
   "source": [
    "!python train.py --name de_to_en"
   ]
  },
  {
   "cell_type": "markdown",
   "metadata": {
    "colab_type": "text",
    "id": "9UkcaFZiyASl"
   },
   "source": [
    "# Testing\n",
    "\n"
   ]
  },
  {
   "cell_type": "code",
   "execution_count": null,
   "metadata": {
    "colab": {},
    "colab_type": "code",
    "id": "mey7o6j-0368"
   },
   "outputs": [],
   "source": []
  },
  {
   "cell_type": "code",
   "execution_count": null,
   "metadata": {
    "colab": {},
    "colab_type": "code",
    "id": "uCsKkEq0yGh0"
   },
   "outputs": [],
   "source": []
  }
 ],
 "metadata": {
  "accelerator": "GPU",
  "colab": {
   "collapsed_sections": [],
   "include_colab_link": true,
   "name": "pix2pix",
   "provenance": []
  },
  "environment": {
   "name": "tf2-gpu.2-3.m74",
   "type": "gcloud",
   "uri": "gcr.io/deeplearning-platform-release/tf2-gpu.2-3:m74"
  },
  "kernelspec": {
   "display_name": "Python 3",
   "language": "python",
   "name": "python3"
  },
  "language_info": {
   "codemirror_mode": {
    "name": "ipython",
    "version": 3
   },
   "file_extension": ".py",
   "mimetype": "text/x-python",
   "name": "python",
   "nbconvert_exporter": "python",
   "pygments_lexer": "ipython3",
   "version": "3.10.6"
  }
 },
 "nbformat": 4,
 "nbformat_minor": 4
}
